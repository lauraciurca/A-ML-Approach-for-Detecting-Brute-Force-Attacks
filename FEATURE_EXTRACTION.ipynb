{
  "nbformat": 4,
  "nbformat_minor": 0,
  "metadata": {
    "colab": {
      "name": "FEATURE_EXTRACTION.ipynb",
      "provenance": [],
      "collapsed_sections": [],
      "include_colab_link": true
    },
    "kernelspec": {
      "name": "python3",
      "display_name": "Python 3"
    },
    "language_info": {
      "name": "python"
    }
  },
  "cells": [
    {
      "cell_type": "markdown",
      "metadata": {
        "id": "view-in-github",
        "colab_type": "text"
      },
      "source": [
        "<a href=\"https://colab.research.google.com/github/lauraciurca/A-ML-Approach-for-Detecting-Brute-Force-Attacks/blob/main/FEATURE_EXTRACTION.ipynb\" target=\"_parent\"><img src=\"https://colab.research.google.com/assets/colab-badge.svg\" alt=\"Open In Colab\"/></a>"
      ]
    },
    {
      "cell_type": "markdown",
      "metadata": {
        "id": "LvluIkdTm5zu"
      },
      "source": [
        "**DATA PRE-PROCESSING**"
      ]
    },
    {
      "cell_type": "markdown",
      "metadata": {
        "id": "t24rx6lvzv1U"
      },
      "source": [
        "**Libraries**"
      ]
    },
    {
      "cell_type": "code",
      "metadata": {
        "id": "VuOXMQkqz145",
        "colab": {
          "base_uri": "https://localhost:8080/"
        },
        "outputId": "5191583b-d322-4d44-9f4d-eb08e793c8b0"
      },
      "source": [
        "from google.colab import drive\n",
        "import glob\n",
        "import pandas as pd \n",
        "from ast import literal_eval\n",
        "import numpy as np\n",
        "from datetime import datetime\n",
        "from itertools import groupby\n",
        "from datetime import datetime\n",
        "import statistics\n",
        "from scipy.stats import skew\n",
        "from scipy.stats import norm, kurtosis\n",
        "from statsmodels.tsa.stattools import adfuller\n",
        "import itertools\n",
        "import matplotlib.pyplot as plt \n",
        "from sklearn.covariance import EllipticEnvelope\n",
        "from sklearn.svm import OneClassSVM\n",
        "import matplotlib.pyplot as plt\n",
        "import matplotlib.font_manager\n",
        "from sklearn import metrics\n",
        "from sklearn.metrics import accuracy_score\n",
        "from sklearn.model_selection import train_test_split\n",
        "from pandas import Series, DataFrame\n",
        "from sklearn.model_selection import GridSearchCV\n",
        "import random\n",
        "from collections import Counter\n",
        "from sklearn.preprocessing import StandardScaler\n",
        "from sklearn.preprocessing import minmax_scale\n",
        "from scipy.stats import kurtosis\n",
        "from sklearn.metrics import confusion_matrix\n",
        "from sklearn.decomposition import PCA\n",
        "from sklearn.metrics import classification_report\n",
        "import seaborn as sns\n",
        "from sklearn.ensemble import IsolationForest"
      ],
      "execution_count": 1,
      "outputs": [
        {
          "output_type": "stream",
          "name": "stderr",
          "text": [
            "/usr/local/lib/python3.7/dist-packages/statsmodels/tools/_testing.py:19: FutureWarning: pandas.util.testing is deprecated. Use the functions in the public API at pandas.testing instead.\n",
            "  import pandas.util.testing as tm\n"
          ]
        }
      ]
    },
    {
      "cell_type": "markdown",
      "metadata": {
        "id": "HPv6lQmOzh-s"
      },
      "source": [
        "**Importing Data**"
      ]
    },
    {
      "cell_type": "code",
      "metadata": {
        "colab": {
          "base_uri": "https://localhost:8080/"
        },
        "id": "PvZ0EMhpLZA9",
        "outputId": "e8921788-b2a5-4c3e-ca61-3ef4d5a1276a"
      },
      "source": [
        "#connect to drive to access data\n",
        "drive.mount('/content/drive')"
      ],
      "execution_count": 2,
      "outputs": [
        {
          "output_type": "stream",
          "name": "stdout",
          "text": [
            "Drive already mounted at /content/drive; to attempt to forcibly remount, call drive.mount(\"/content/drive\", force_remount=True).\n"
          ]
        }
      ]
    },
    {
      "cell_type": "code",
      "metadata": {
        "id": "MAqGwFb9Sz_r"
      },
      "source": [
        "#get all files from drive \n",
        "def import_data(path):\n",
        "  logfiles = glob.glob(path)\n",
        "  logfil=[]\n",
        "  for i in logfiles:\n",
        "    f  = open(i, \"r\")\n",
        "    data=pd.DataFrame(f)\n",
        "    logfil.append(data)\n",
        "  df = pd.concat(logfil)\n",
        "  df=df.reset_index(drop=True)\n",
        "  return df"
      ],
      "execution_count": 3,
      "outputs": []
    },
    {
      "cell_type": "code",
      "metadata": {
        "id": "ySRrsyj5aBnp"
      },
      "source": [
        "attacks= import_data(\"/content/drive/MyDrive/LOG/Log_files/*\") \n",
        "normal= import_data(\"/content/drive/MyDrive/LOG/Log_files_normali/*\") "
      ],
      "execution_count": 4,
      "outputs": []
    },
    {
      "cell_type": "code",
      "metadata": {
        "colab": {
          "base_uri": "https://localhost:8080/"
        },
        "id": "nK1uTQPIai0I",
        "outputId": "bd1a29bf-557d-4ade-ea23-f46886224d9c"
      },
      "source": [
        "len(attacks), len(normal)"
      ],
      "execution_count": 5,
      "outputs": [
        {
          "output_type": "execute_result",
          "data": {
            "text/plain": [
              "(538810, 109)"
            ]
          },
          "metadata": {},
          "execution_count": 5
        }
      ]
    },
    {
      "cell_type": "code",
      "metadata": {
        "colab": {
          "base_uri": "https://localhost:8080/",
          "height": 69
        },
        "id": "6YZNyE5uWGTD",
        "outputId": "690c1425-36e5-4da3-d89c-864e1ae588e2"
      },
      "source": [
        "#check data entry\n",
        "attacks[0].values[4]"
      ],
      "execution_count": 5,
      "outputs": [
        {
          "output_type": "execute_result",
          "data": {
            "application/vnd.google.colaboratory.intrinsic+json": {
              "type": "string"
            },
            "text/plain": [
              "'{\"host.hostname\":\"xecvmlab02\",\"user.name\":\"xec_admin\",\"host\":\"xecvmlab02\",\"@timestamp\":\"2021-09-01T14:18:02.594Z\",\"source.ip\":\"172.18.0.25\",\"@version\":\"1\",\"path\":\"/var/log/secure\",\"process.pid\":\"18954\",\"system.auth.ssh.event\":\"Failed\",\"source.port\":\"45916\",\"message\":\"Sep  1 16:18:01 xecvmlab02 sshd[18954]: Failed password for xec_admin from 172.18.0.25 port 45916 ssh2\",\"process.name\":\"sshd\",\"system.auth.ssh.method\":\"password\",\"system.auth.timestamp\":\"Sep  1 16:18:01\"}\\n'"
            ]
          },
          "metadata": {},
          "execution_count": 5
        }
      ]
    },
    {
      "cell_type": "markdown",
      "metadata": {
        "id": "OpDOhvr0z_A1"
      },
      "source": [
        "**Dataframe Creation**"
      ]
    },
    {
      "cell_type": "code",
      "metadata": {
        "id": "PANJteWBXb98"
      },
      "source": [
        "#dictionary function\n",
        "def dicto(x,df):\n",
        "  k=literal_eval(df[0][x]) \n",
        "  return k"
      ],
      "execution_count": 6,
      "outputs": []
    },
    {
      "cell_type": "code",
      "metadata": {
        "id": "SclX9SMxoWFQ"
      },
      "source": [
        "#dataframe creation after dictionary creation\n",
        "def transform_data(data):\n",
        "  zxx=[]\n",
        "  for i in range(len(data)):\n",
        "    zxx.append(dicto(i,data))\n",
        "  ds= [d for d in zxx if 'system.auth.ssh.event' in d]\n",
        "  super_dict= {}\n",
        "  for d in ds:\n",
        "    for k, v in d.items():  \n",
        "       super_dict.setdefault(k, []).append(v)\n",
        "  data= pd.DataFrame([super_dict['@timestamp'],super_dict['system.auth.ssh.event']])\n",
        "  data_t=data.T\n",
        "  return data_t"
      ],
      "execution_count": 7,
      "outputs": []
    },
    {
      "cell_type": "code",
      "metadata": {
        "id": "UGpW37b2dLuq"
      },
      "source": [
        "attacks= transform_data(attacks)\n",
        "normal= transform_data(normal)"
      ],
      "execution_count": 8,
      "outputs": []
    },
    {
      "cell_type": "code",
      "metadata": {
        "id": "escnlMbGXb9-"
      },
      "source": [
        "#removing rows that are errors or invalid\n",
        "def remove_noise(dataset):\n",
        "  dataset= dataset.drop(dataset[dataset[1].str.contains('Invalid')].index.tolist())\n",
        "  dataset= dataset.drop(dataset[dataset[1].str.contains('error')].index.tolist())\n",
        "  dataset= dataset.reset_index(drop=True)\n",
        "  return dataset"
      ],
      "execution_count": 9,
      "outputs": []
    },
    {
      "cell_type": "code",
      "metadata": {
        "id": "Z9JwMVVzbWbN"
      },
      "source": [
        "attacks= remove_noise(attacks)\n",
        "normal= remove_noise(normal)"
      ],
      "execution_count": 10,
      "outputs": []
    },
    {
      "cell_type": "code",
      "metadata": {
        "id": "Bmkj4RrEXb9-"
      },
      "source": [
        "#converting time into millisenconds\n",
        "def get_millisecond(dataset):\n",
        "  dataset[0]= dataset[0].apply(lambda x: datetime.strptime(x,'%Y-%m-%dT%H:%M:%S.%f%z'))\n",
        "  dataset[0]= dataset[0].apply(lambda x: x.timestamp() * 1000)\n",
        "  dataset[0]= dataset[0].astype('int64') \n",
        "  return dataset"
      ],
      "execution_count": 11,
      "outputs": []
    },
    {
      "cell_type": "code",
      "metadata": {
        "id": "0AELZkQzfsig"
      },
      "source": [
        "attacks= get_millisecond(attacks)\n",
        "normal= get_millisecond(normal)"
      ],
      "execution_count": 12,
      "outputs": []
    },
    {
      "cell_type": "code",
      "metadata": {
        "id": "XoH_taK6Xb9-"
      },
      "source": [
        "#rename columns\n",
        "attacks= attacks.rename(columns={0: \"time\", 1: \"event\"})\n",
        "normal= normal.rename(columns={0: \"time\", 1: \"event\"})"
      ],
      "execution_count": 13,
      "outputs": []
    },
    {
      "cell_type": "code",
      "metadata": {
        "id": "f3KuglXqLqjH"
      },
      "source": [
        "#attacks.head()\n",
        "#normal.head()"
      ],
      "execution_count": 14,
      "outputs": []
    },
    {
      "cell_type": "markdown",
      "metadata": {
        "id": "DFEfTgm7qkce"
      },
      "source": [
        "Define each single access/attack session to the client; each row will represent an attack/login"
      ]
    },
    {
      "cell_type": "code",
      "metadata": {
        "id": "1VajLtdcucLI"
      },
      "source": [
        "def define_session(dataset):\n",
        "  m= dataset.T\n",
        "  columns= list(m) \n",
        "  result=[]\n",
        "  start=True\n",
        "  for i in columns:\n",
        "    if start and m[i][1] == \"Failed\":\n",
        "      result.append([m[i]])\n",
        "      start = False\n",
        "    elif m[i][1]==\"Failed\":\n",
        "      result[-1].append(m[i])\n",
        "    else:\n",
        "      start = True \n",
        "  p = len(result)-1\n",
        "  for lists in range(0,p):\n",
        "    z = result[lists][-1].name \n",
        "    result[lists].append(m[z+1])\n",
        "  dataset = pd.Series(result)\n",
        "  dataset= dataset.to_frame()\n",
        "  return dataset"
      ],
      "execution_count": 14,
      "outputs": []
    },
    {
      "cell_type": "code",
      "metadata": {
        "id": "gKVHFAdfvFoq"
      },
      "source": [
        "attacks = define_session(attacks)\n",
        "attacks = attacks.rename(columns={0: \"data\"})"
      ],
      "execution_count": 15,
      "outputs": []
    },
    {
      "cell_type": "code",
      "metadata": {
        "id": "HpGwG5WigNFl"
      },
      "source": [
        "normal = define_session(normal)\n",
        "normal = normal.rename(columns={0: \"data\"})"
      ],
      "execution_count": 16,
      "outputs": []
    },
    {
      "cell_type": "markdown",
      "metadata": {
        "id": "zsCHltqvasoT"
      },
      "source": [
        "Feature Extraction"
      ]
    },
    {
      "cell_type": "code",
      "metadata": {
        "id": "9D4iAnIWx2Ey"
      },
      "source": [
        "#function to extract the count of fails and accepted\n",
        "def failures_accepted(dataset):\n",
        "  lists= []\n",
        "  lists2= []\n",
        "  for key, value in dataset.iteritems():\n",
        "    for i in range(0,len(dataset)):\n",
        "      s = value[i]\n",
        "      s = str(s)\n",
        "      z=s.count(\"Failed\")\n",
        "      z2=s.count(\"Accepted\")\n",
        "      lists.append(z)\n",
        "      lists2.append(z2)\n",
        "  dataset[\"fails\"]=lists\n",
        "  dataset[\"accepted\"]=lists2"
      ],
      "execution_count": 17,
      "outputs": []
    },
    {
      "cell_type": "code",
      "metadata": {
        "id": "0OLIvw9Q_XgF"
      },
      "source": [
        "#failures_accepted(normal)\n",
        "failures_accepted(attacks)\n",
        "failures_accepted(normal)"
      ],
      "execution_count": 18,
      "outputs": []
    },
    {
      "cell_type": "code",
      "metadata": {
        "id": "lagPKrGtzzLt"
      },
      "source": [
        "#extract the interval of the attack in milliseconds\n",
        "def interval(dataset):\n",
        "  result=[]\n",
        "  for l in dataset[\"data\"]:\n",
        "    mim=[]\n",
        "    for j in range(len(l)):\n",
        "      x = l[j][0]\n",
        "      mim.append(x)\n",
        "    result.append(mim)\n",
        "  dataset[\"interval\"] = result"
      ],
      "execution_count": 19,
      "outputs": []
    },
    {
      "cell_type": "code",
      "metadata": {
        "id": "OBDrf8Ap-_GU"
      },
      "source": [
        "#interval(normal)\n",
        "interval(attacks)"
      ],
      "execution_count": 20,
      "outputs": []
    },
    {
      "cell_type": "code",
      "metadata": {
        "id": "lrBrzA2llz9M"
      },
      "source": [
        "interval(normal)"
      ],
      "execution_count": 21,
      "outputs": []
    },
    {
      "cell_type": "code",
      "metadata": {
        "id": "h7GNMULiIMbw"
      },
      "source": [
        "def plot_all_timeseries(data):\n",
        "  for x in data:\n",
        "    z=plt.figure()\n",
        "    ax=z.add_subplot(111)    \n",
        "    plt.plot(x)\n",
        "    plt.show()"
      ],
      "execution_count": 22,
      "outputs": []
    },
    {
      "cell_type": "code",
      "metadata": {
        "id": "4VywJwYrrcHF"
      },
      "source": [
        "#extract the interval of the attack in milliseconds\n",
        "def interval_fails(dataset):\n",
        "  result=[]\n",
        "  for l in dataset[\"data\"]:\n",
        "    mim=[]\n",
        "    for j in range(len(l)-1):\n",
        "      x = l[j][0]\n",
        "      mim.append(x)\n",
        "    result.append(mim)\n",
        "  dataset[\"interval_fails\"] = result"
      ],
      "execution_count": 23,
      "outputs": []
    },
    {
      "cell_type": "code",
      "metadata": {
        "id": "Ym4xsKcHrcD1"
      },
      "source": [
        "#interval_fails(normal)\n",
        "interval_fails(attacks)"
      ],
      "execution_count": 24,
      "outputs": []
    },
    {
      "cell_type": "code",
      "metadata": {
        "id": "V7_ArnzpmH3k"
      },
      "source": [
        "interval_fails(normal)"
      ],
      "execution_count": 25,
      "outputs": []
    },
    {
      "cell_type": "code",
      "metadata": {
        "id": "W6SZZPLXcTvY"
      },
      "source": [
        "#define the attack/login duration\n",
        "def attack_duration(dataset):\n",
        "  diff=[]\n",
        "  for f in dataset['interval']:\n",
        "    x= f[-1]-f[0]\n",
        "    diff.append(x)\n",
        "  dataset[\"durata_attacco\"] = diff"
      ],
      "execution_count": 26,
      "outputs": []
    },
    {
      "cell_type": "code",
      "metadata": {
        "id": "JR6py3mS_q8x"
      },
      "source": [
        "#attack_duration(normal)\n",
        "attack_duration(attacks)"
      ],
      "execution_count": 27,
      "outputs": []
    },
    {
      "cell_type": "code",
      "metadata": {
        "id": "QODPzBzymKv9"
      },
      "source": [
        "attack_duration(normal)"
      ],
      "execution_count": 28,
      "outputs": []
    },
    {
      "cell_type": "markdown",
      "metadata": {
        "id": "JobuMePCSSQA"
      },
      "source": [
        "Divisione attacco nelle varie sottoparti"
      ]
    },
    {
      "cell_type": "code",
      "metadata": {
        "id": "aSFEMOD4Z77o"
      },
      "source": [
        "#define the average intercurring between a fail and another\n",
        "def meani(mylist):\n",
        " l=[]\n",
        " for i in range(0,1):\n",
        "    for j in range(i + 1, len(mylist)):\n",
        "        z= mylist[j] - mylist[j-1]  \n",
        "        l.append(z)\n",
        "        medialista2= statistics.mean(l)\n",
        " return medialista2"
      ],
      "execution_count": 29,
      "outputs": []
    },
    {
      "cell_type": "code",
      "metadata": {
        "id": "7LfyIfjsZ77p"
      },
      "source": [
        "def mean_attacks(dataset): \n",
        "  meansi2=[]\n",
        "  for f in range(len(dataset)):\n",
        "    single=dataset[\"data\"][f]\n",
        "    fails=[]\n",
        "    for x in single:\n",
        "        fail=x[1]\n",
        "        if fail==\"Failed\":\n",
        "          fails.append(x[0])\n",
        "    mean_failures= meani(fails)\n",
        "    meansi2.append(mean_failures)\n",
        "  dataset[\"durata_media_tra_un_fail_e_l_altro\"] = meansi2"
      ],
      "execution_count": 30,
      "outputs": []
    },
    {
      "cell_type": "code",
      "metadata": {
        "id": "grc4RRJVSW8k"
      },
      "source": [
        "mean_attacks(attacks)"
      ],
      "execution_count": 31,
      "outputs": []
    },
    {
      "cell_type": "code",
      "metadata": {
        "id": "tS8wKFedSSQB"
      },
      "source": [
        "pairs_result=[]\n",
        "for l in attacks[\"interval_fails\"]:\n",
        "  pairs = []\n",
        "  for first, second in zip(l, l[1:]):\n",
        "    m = (first, second)\n",
        "    pairs.append(m)\n",
        "  pairs_result.append(pairs)"
      ],
      "execution_count": 32,
      "outputs": []
    },
    {
      "cell_type": "code",
      "metadata": {
        "id": "ncZyLbzFSSQB"
      },
      "source": [
        "def separation(pairs,avg):\n",
        "  new_list=[]\n",
        "  start=True\n",
        "  for t in range(len(pairs)):\n",
        "   if start and abs(pairs[t][0] - pairs[t][1]) < avg: \n",
        "    new_list.append([(pairs[t][0],pairs[t][1])])\n",
        "    start = False\n",
        "   elif abs(pairs[t][0] - pairs[t][1]) < avg:\n",
        "    new_list[-1].append((pairs[t][0],pairs[t][1]))\n",
        "   else:\n",
        "    start = True\n",
        "  return new_list"
      ],
      "execution_count": 33,
      "outputs": []
    },
    {
      "cell_type": "code",
      "metadata": {
        "id": "tdCLvu37SSQB"
      },
      "source": [
        "all=[]\n",
        "for f in range(len(pairs_result)):\n",
        "  pairs = pairs_result[f]\n",
        "  average= attacks[\"durata_media_tra_un_fail_e_l_altro\"][f]\n",
        "  f= separation(pairs,average)\n",
        "  all.append(f)"
      ],
      "execution_count": 34,
      "outputs": []
    },
    {
      "cell_type": "code",
      "metadata": {
        "id": "xZ7hEaNtSSQB"
      },
      "source": [
        "final_result=[]\n",
        "for c in range(0,len(all)):\n",
        " mmm = all[c]\n",
        " risult=[]\n",
        " for x in range(0,len(mmm)):\n",
        "  j= mmm[x]\n",
        "  res=[]\n",
        "  if len(j) > 1:\n",
        "    for item in j[0]:\n",
        "      res.append(item)\n",
        "    for t in range(1,len(j)):\n",
        "      last = j[t][1]\n",
        "      res.append(last)\n",
        "  if len(j) == 1:         \n",
        "   for t in j:\n",
        "    for item in t:\n",
        "      res.append(item)\n",
        "  risult.append(res)\n",
        " final_result.append(risult)"
      ],
      "execution_count": 35,
      "outputs": []
    },
    {
      "cell_type": "code",
      "metadata": {
        "id": "XNcw4K31SSQB"
      },
      "source": [
        "attacks[\"divided_attack\"] = final_result"
      ],
      "execution_count": 36,
      "outputs": []
    },
    {
      "cell_type": "code",
      "metadata": {
        "id": "VL2nX1tliSJw"
      },
      "source": [
        "session_fails=[]\n",
        "for x in range(len(attacks[\"divided_attack\"])):\n",
        "    one = attacks[\"divided_attack\"][x]\n",
        "    lung=[]\n",
        "    for y in range(len(one)):\n",
        "      length=len(one[y])\n",
        "      lung.append(length)\n",
        "    session_fails.append(lung) "
      ],
      "execution_count": 37,
      "outputs": []
    },
    {
      "cell_type": "code",
      "metadata": {
        "id": "Rz1YgXy0gKFy"
      },
      "source": [
        "attacks[\"divided_attack\"]"
      ],
      "execution_count": null,
      "outputs": []
    },
    {
      "cell_type": "code",
      "metadata": {
        "id": "eJAikfG2lapu"
      },
      "source": [
        "attacks[\"session_fails\"]=session_fails"
      ],
      "execution_count": 38,
      "outputs": []
    },
    {
      "cell_type": "code",
      "metadata": {
        "id": "edoyabJPz-vX"
      },
      "source": [
        "faills=[]\n",
        "for x in range(len(attacks[\"divided_attack\"])):\n",
        "  two = attacks[\"divided_attack\"][x]\n",
        "  ind=[]\n",
        "  for y in range(len(two)):\n",
        "    time= attacks[\"divided_attack\"][x][y][0]\n",
        "    failures=len(two[y])\n",
        "    z=[time,failures]\n",
        "    ind.append(z)\n",
        "  faills.append(ind)"
      ],
      "execution_count": null,
      "outputs": []
    },
    {
      "cell_type": "code",
      "metadata": {
        "id": "wYEt5o9Z0ur4"
      },
      "source": [
        "timess=[]\n",
        "for f in faills:\n",
        "  data_single_attack = pd.DataFrame(f, columns =['time', 'action'])\n",
        "  data_single_attack['time'] = pd.to_datetime(data_single_attack['time'], unit='ms')\n",
        "  ts = data_single_attack.set_index('time')\n",
        "  timess.append(ts)"
      ],
      "execution_count": null,
      "outputs": []
    },
    {
      "cell_type": "code",
      "metadata": {
        "colab": {
          "base_uri": "https://localhost:8080/"
        },
        "id": "wWJrpfhb0D68",
        "outputId": "e5cd6371-055f-46e9-d752-70a16dbb03f5"
      },
      "source": [
        "c = timess[0]\n",
        "c= group_timeseries(c)\n",
        "len(c)"
      ],
      "execution_count": 635,
      "outputs": [
        {
          "output_type": "execute_result",
          "data": {
            "text/plain": [
              "197"
            ]
          },
          "metadata": {},
          "execution_count": 635
        }
      ]
    },
    {
      "cell_type": "code",
      "metadata": {
        "colab": {
          "base_uri": "https://localhost:8080/",
          "height": 282
        },
        "id": "cFSkKty7z-vY",
        "outputId": "aeecb4af-3ab0-4bb2-ed29-8c4e2ef5f6e6"
      },
      "source": [
        "plt.plot(c)"
      ],
      "execution_count": null,
      "outputs": [
        {
          "output_type": "execute_result",
          "data": {
            "text/plain": [
              "[<matplotlib.lines.Line2D at 0x7f037048f7d0>]"
            ]
          },
          "metadata": {},
          "execution_count": 633
        },
        {
          "output_type": "display_data",
          "data": {
            "image/png": "[encoded data removed]",
            "text/plain": [
              "<Figure size 432x288 with 1 Axes>"
            ]
          },
          "metadata": {
            "needs_background": "light"
          }
        }
      ]
    },
    {
      "cell_type": "code",
      "metadata": {
        "id": "RrFieu3SiOHu"
      },
      "source": [
        "#standard deviation\n",
        "def standard_dev(dataset):\n",
        "  std=[]\n",
        "  for f in dataset['session_fails']:\n",
        "    if len(f)>2:\n",
        "      x = statistics.stdev(f)\n",
        "   #  x = format(x, 'f')\n",
        "      std.append(x)\n",
        "    else:\n",
        "      std.append(0)\n",
        "  dataset[\"standard_deviation\"] = std"
      ],
      "execution_count": 39,
      "outputs": []
    },
    {
      "cell_type": "code",
      "metadata": {
        "id": "h5EobtMLlkad"
      },
      "source": [
        "standard_dev(attacks)"
      ],
      "execution_count": 40,
      "outputs": []
    },
    {
      "cell_type": "code",
      "metadata": {
        "id": "85-406HliOHu"
      },
      "source": [
        "#skewness\n",
        "def skewness(dataset):\n",
        "  skw=[]\n",
        "  for f in dataset['session_fails']:\n",
        "    x = skew(f)\n",
        " #   x = format(x, 'f')\n",
        "    skw.append(x)\n",
        "  dataset[\"skewness\"] = skw"
      ],
      "execution_count": 41,
      "outputs": []
    },
    {
      "cell_type": "code",
      "metadata": {
        "id": "emNTL5XRlo4F"
      },
      "source": [
        "skewness(attacks)"
      ],
      "execution_count": 42,
      "outputs": []
    },
    {
      "cell_type": "code",
      "metadata": {
        "id": "RzLXDtLqiOHu"
      },
      "source": [
        "#kurtosis\n",
        "def kurtos(dataset):\n",
        "  kurt=[]\n",
        "  for f in dataset['session_fails']:\n",
        "    x = kurtosis(f)\n",
        "  #  x = format(x, 'f')\n",
        "    kurt.append(x)\n",
        "  dataset[\"kurtosis\"] = kurt"
      ],
      "execution_count": 43,
      "outputs": []
    },
    {
      "cell_type": "code",
      "metadata": {
        "id": "b5u2DjEvl-v3"
      },
      "source": [
        "kurtos(attacks)"
      ],
      "execution_count": 44,
      "outputs": []
    },
    {
      "cell_type": "code",
      "metadata": {
        "id": "GYOA8x7ljRUL"
      },
      "source": [
        "def mean_vecchia(dataset):\n",
        "  mean2=[]\n",
        "  for f in dataset['session_fails']:\n",
        "    if len(f)>1:\n",
        "      x = statistics.mean(f)\n",
        "    #x = format(x, 'f')\n",
        "      mean2.append(x)\n",
        "    else:\n",
        "      mean2.append(0)\n",
        "  dataset[\"durata_media_attacco2\"] = mean2"
      ],
      "execution_count": 45,
      "outputs": []
    },
    {
      "cell_type": "code",
      "metadata": {
        "id": "mXAFoxHn43RC"
      },
      "source": [
        "mean_vecchia(attacks)"
      ],
      "execution_count": 46,
      "outputs": []
    },
    {
      "cell_type": "code",
      "metadata": {
        "colab": {
          "base_uri": "https://localhost:8080/"
        },
        "id": "tiW_9-UvLF8y",
        "outputId": "86b1b5fb-4a44-4338-9b89-84fd710b6c04"
      },
      "source": [
        "#len(attacks)"
      ],
      "execution_count": null,
      "outputs": [
        {
          "output_type": "execute_result",
          "data": {
            "text/plain": [
              "82"
            ]
          },
          "metadata": {},
          "execution_count": 50
        }
      ]
    },
    {
      "cell_type": "markdown",
      "metadata": {
        "id": "6HE0BliPqyMT"
      },
      "source": [
        "normali"
      ]
    },
    {
      "cell_type": "code",
      "metadata": {
        "id": "apr_TybEuD5f"
      },
      "source": [
        "#define single timeseries\n",
        "def timeseriess(data):\n",
        "  for j in range(len(data)):\n",
        "    if data[j][1]==\"Failed\":\n",
        "      data[j][1]=1\n",
        "    elif data[j][1]==\"Accepted\":\n",
        "      data[j][1]=1\n",
        "  single_att=[]\n",
        "  for j in range(len(data)):\n",
        "    data_action=[data[j][0],data[j][1]]\n",
        "    single_att.append(data_action)\n",
        "  data_data = pd.DataFrame(single_att, columns =['time', 'action'])\n",
        "  data_data['time'] = pd.to_datetime(data_data['time'], unit='ms')\n",
        "  ts = data_data.set_index('time')\n",
        "  return ts"
      ],
      "execution_count": 49,
      "outputs": []
    },
    {
      "cell_type": "code",
      "metadata": {
        "id": "MY8aUdUeDKiI"
      },
      "source": [
        "def group_timeseries(timeseries):\n",
        "  grouped=timeseries.groupby(pd.Grouper(freq='4s')).agg({    \n",
        "                                        \"action\": \"sum\"})\n",
        "  return grouped"
      ],
      "execution_count": 107,
      "outputs": []
    },
    {
      "cell_type": "code",
      "metadata": {
        "id": "hkjUKCVAAo_q"
      },
      "source": [
        "#define all timeseries for normal sessions\n",
        "all_normals=[]\n",
        "for i in range(len(normal)):\n",
        "  single_session= normal[\"data\"][i]\n",
        "  ts= timeseriess(single_session)\n",
        "  f= group_timeseries(ts)\n",
        "  all_normals.append(f)"
      ],
      "execution_count": 108,
      "outputs": []
    },
    {
      "cell_type": "code",
      "metadata": {
        "id": "LOtKAmUeu24n"
      },
      "source": [
        "def reconvert_millisecond(dataset):\n",
        "  dataset[\"time\"]= pd.to_datetime(dataset['time']).dt.strftime(\"%Y-%m-%dT%H:%M:%S\")\n",
        "  dataset[\"time\"]= dataset[\"time\"].apply(lambda x: datetime.strptime(x,'%Y-%m-%dT%H:%M:%S'))\n",
        "  dataset[\"time\"]= dataset[\"time\"].apply(lambda x: x.timestamp() * 1000)\n",
        "  dataset[\"time\"]= dataset[\"time\"].astype('int64') \n",
        "  return dataset"
      ],
      "execution_count": 109,
      "outputs": []
    },
    {
      "cell_type": "code",
      "metadata": {
        "id": "jV-WxHO3u4-k"
      },
      "source": [
        "data=[]\n",
        "for x in range(len(all_normals)):\n",
        "  m= all_normals[x]\n",
        "  n = m.rename_axis('time').reset_index()\n",
        "  reconvert_millisecond(n)\n",
        "  fails=[]\n",
        "  for x in range(len(n)):\n",
        "    z= n[\"time\"][x]\n",
        "    y= n[\"action\"][x]\n",
        "    fails.append([z, y])\n",
        "  data.append(fails)"
      ],
      "execution_count": 110,
      "outputs": []
    },
    {
      "cell_type": "code",
      "metadata": {
        "id": "2SBmqxFm2EPQ"
      },
      "source": [
        "normal[\"grouped_data\"]=data"
      ],
      "execution_count": 111,
      "outputs": []
    },
    {
      "cell_type": "code",
      "metadata": {
        "id": "3M2_aFD5vY8P"
      },
      "source": [
        "total_fail=[]\n",
        "for x in normal[\"grouped_data\"]:\n",
        "  x=x[:-1]\n",
        "  fails=[]\n",
        "  for y in x:\n",
        "    f=y[1]\n",
        "    fails.append(f)\n",
        "  total_fail.append(fails)"
      ],
      "execution_count": 112,
      "outputs": []
    },
    {
      "cell_type": "code",
      "metadata": {
        "id": "9kaGXG6svu5g"
      },
      "source": [
        "normal[\"session_fails\"]=total_fail"
      ],
      "execution_count": 113,
      "outputs": []
    },
    {
      "cell_type": "code",
      "metadata": {
        "colab": {
          "base_uri": "https://localhost:8080/",
          "height": 282
        },
        "id": "yNaxyJfqzQIG",
        "outputId": "fc98fb69-f017-406e-d3d2-76387ade7655"
      },
      "source": [
        "#plot normal\n",
        "plt.plot(normal[\"session_fails\"][2])"
      ],
      "execution_count": null,
      "outputs": [
        {
          "output_type": "execute_result",
          "data": {
            "text/plain": [
              "[<matplotlib.lines.Line2D at 0x7f036feedb10>]"
            ]
          },
          "metadata": {},
          "execution_count": 629
        },
        {
          "output_type": "display_data",
          "data": {
            "image/png": "[encoded data removed]",
            "text/plain": [
              "<Figure size 432x288 with 1 Axes>"
            ]
          },
          "metadata": {
            "needs_background": "light"
          }
        }
      ]
    },
    {
      "cell_type": "code",
      "metadata": {
        "id": "NNWp87tUamJr"
      },
      "source": [
        "mean_vecchia(normal)"
      ],
      "execution_count": 114,
      "outputs": []
    },
    {
      "cell_type": "code",
      "metadata": {
        "id": "IaNaD3MgWdzJ"
      },
      "source": [
        "standard_dev(normal)"
      ],
      "execution_count": 115,
      "outputs": []
    },
    {
      "cell_type": "code",
      "metadata": {
        "id": "E8pdKuvqq0Mb"
      },
      "source": [
        "standard_dev(normal)"
      ],
      "execution_count": 116,
      "outputs": []
    },
    {
      "cell_type": "code",
      "metadata": {
        "id": "Jdca-Y1VUcrO"
      },
      "source": [
        "kurtos(normal)"
      ],
      "execution_count": 117,
      "outputs": []
    },
    {
      "cell_type": "code",
      "metadata": {
        "id": "o5tBBTYwkgBI"
      },
      "source": [
        "skewness(normal)"
      ],
      "execution_count": 118,
      "outputs": []
    },
    {
      "cell_type": "code",
      "metadata": {
        "id": "5a97ATZgHKxd"
      },
      "source": [
        "attacks.to_csv(\"attacks.csv\")\n",
        "normal.to_csv(\"normal.csv\")"
      ],
      "execution_count": null,
      "outputs": []
    }
  ]
}