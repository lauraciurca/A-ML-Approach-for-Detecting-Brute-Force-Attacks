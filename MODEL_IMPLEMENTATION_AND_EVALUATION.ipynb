{
  "nbformat": 4,
  "nbformat_minor": 0,
  "metadata": {
    "colab": {
      "name": "MODEL_IMPLEMENTATION_AND_EVALUATION.ipynb",
      "provenance": [],
      "collapsed_sections": [],
      "include_colab_link": true
    },
    "kernelspec": {
      "name": "python3",
      "display_name": "Python 3"
    },
    "language_info": {
      "name": "python"
    }
  },
  "cells": [
    {
      "cell_type": "markdown",
      "metadata": {
        "id": "view-in-github",
        "colab_type": "text"
      },
      "source": [
        "<a href=\"https://colab.research.google.com/github/lauraciurca/A-ML-Approach-for-Detecting-Brute-Force-Attacks/blob/main/MODEL_IMPLEMENTATION_AND_EVALUATION.ipynb\" target=\"_parent\"><img src=\"https://colab.research.google.com/assets/colab-badge.svg\" alt=\"Open In Colab\"/></a>"
      ]
    },
    {
      "cell_type": "markdown",
      "metadata": {
        "id": "ksPttXLeww6P"
      },
      "source": [
        "**Libraries**"
      ]
    },
    {
      "cell_type": "code",
      "metadata": {
        "colab": {
          "base_uri": "https://localhost:8080/"
        },
        "id": "A-B36XowIJ6p",
        "outputId": "b109e67c-81b5-4c28-bbcb-19813599afd7"
      },
      "source": [
        "from google.colab import drive\n",
        "import glob\n",
        "import pandas as pd \n",
        "from ast import literal_eval\n",
        "import numpy as np\n",
        "from datetime import datetime\n",
        "from itertools import groupby\n",
        "from datetime import datetime\n",
        "import statistics\n",
        "from scipy.stats import skew\n",
        "from scipy.stats import norm, kurtosis\n",
        "from statsmodels.tsa.stattools import adfuller\n",
        "import itertools\n",
        "import matplotlib.pyplot as plt \n",
        "from sklearn.covariance import EllipticEnvelope\n",
        "from sklearn.svm import OneClassSVM\n",
        "import matplotlib.pyplot as plt\n",
        "import matplotlib.font_manager\n",
        "from sklearn import metrics\n",
        "from sklearn.metrics import accuracy_score\n",
        "from sklearn.model_selection import train_test_split\n",
        "from pandas import Series, DataFrame\n",
        "from sklearn.model_selection import GridSearchCV\n",
        "import random\n",
        "from collections import Counter\n",
        "from sklearn.preprocessing import StandardScaler\n",
        "from sklearn.preprocessing import minmax_scale\n",
        "from scipy.stats import kurtosis\n",
        "from sklearn.metrics import confusion_matrix\n",
        "from sklearn.decomposition import PCA\n",
        "from sklearn.metrics import classification_report\n",
        "import seaborn as sns\n",
        "from sklearn.ensemble import IsolationForest"
      ],
      "execution_count": 1,
      "outputs": [
        {
          "output_type": "stream",
          "name": "stderr",
          "text": [
            "/usr/local/lib/python3.7/dist-packages/statsmodels/tools/_testing.py:19: FutureWarning: pandas.util.testing is deprecated. Use the functions in the public API at pandas.testing instead.\n",
            "  import pandas.util.testing as tm\n"
          ]
        }
      ]
    },
    {
      "cell_type": "code",
      "metadata": {
        "colab": {
          "base_uri": "https://localhost:8080/"
        },
        "id": "H-8bpUMXIuwJ",
        "outputId": "833d0704-a189-40d7-e277-bba0abd79f15"
      },
      "source": [
        "drive.mount(\"/content/drive\")"
      ],
      "execution_count": 2,
      "outputs": [
        {
          "output_type": "stream",
          "name": "stdout",
          "text": [
            "Mounted at /content/drive\n"
          ]
        }
      ]
    },
    {
      "cell_type": "code",
      "metadata": {
        "id": "nKfzNN0XI_PA"
      },
      "source": [
        "attacks= pd.read_csv('/content/drive/MyDrive/A_project/attacks.csv')\n",
        "normal= pd.read_csv('/content/drive/MyDrive/A_project/normal.csv')"
      ],
      "execution_count": 3,
      "outputs": []
    },
    {
      "cell_type": "code",
      "metadata": {
        "id": "parFLDt6YYp1"
      },
      "source": [
        "attacks = attacks.rename(columns={'durata_media_attacco2': 'mean'})\n",
        "normal = normal.rename(columns={'durata_media_attacco2': 'mean'})"
      ],
      "execution_count": 4,
      "outputs": []
    },
    {
      "cell_type": "markdown",
      "metadata": {
        "id": "5EAdkh7U3p-M"
      },
      "source": [
        "**Functions**"
      ]
    },
    {
      "cell_type": "code",
      "metadata": {
        "id": "zTcOkJTI33Bf"
      },
      "source": [
        "def train_osvm(train_data, kernel, best_nu, best_gamma):\n",
        "\n",
        "\tmodel = OneClassSVM(nu=best_nu, kernel=kernel, gamma=best_gamma)\n",
        "\tmodel.fit(train_data)\n",
        " \t\n",
        "\treturn model "
      ],
      "execution_count": 5,
      "outputs": []
    },
    {
      "cell_type": "code",
      "metadata": {
        "id": "SPKmgT4mAQD5"
      },
      "source": [
        "def train_if(train_data, max_samples):\n",
        "\n",
        "    rng= np.random.RandomState(42)\n",
        "    model = IsolationForest(max_samples=max_samples,random_state=rng)\n",
        "    model.fit(train_data)\n",
        " \t\n",
        "    return model "
      ],
      "execution_count": 6,
      "outputs": []
    },
    {
      "cell_type": "code",
      "metadata": {
        "id": "ub6-HWJ_33Bh"
      },
      "source": [
        "def train_predictions(model, train_data): \n",
        "\ttrain_predictions = model.predict(train_data)\n",
        "\treturn train_predictions"
      ],
      "execution_count": 7,
      "outputs": []
    },
    {
      "cell_type": "code",
      "metadata": {
        "id": "Uy1ieZ0D33Bh"
      },
      "source": [
        "def test_predictions(model, test_data):\n",
        "\ttest_predictions = model.predict(test_data)\n",
        "\treturn test_predictions"
      ],
      "execution_count": 8,
      "outputs": []
    },
    {
      "cell_type": "code",
      "metadata": {
        "id": "zSyPFiCD33Bi"
      },
      "source": [
        "def plot_confusion_matrix(cm, title, classes=['normal', 'attack'],\n",
        "                          cmap=plt.cm.Blues, save=False, saveas=\"MyFigure.png\"):\n",
        "    cm = cm.astype('float') / cm.sum(axis=1)[:, np.newaxis]\n",
        "    \n",
        "    plt.imshow(cm, interpolation='nearest', cmap=cmap)\n",
        "    plt.title(title)\n",
        "    plt.colorbar()\n",
        "    tick_marks = np.arange(len(classes))\n",
        "    plt.xticks(tick_marks, classes, rotation=90)\n",
        "    plt.yticks(tick_marks, classes)\n",
        "\n",
        "    fmt = '.1%'\n",
        "    thresh = cm.max() / 2.\n",
        "    for i, j in itertools.product(range(cm.shape[0]), range(cm.shape[1])):\n",
        "        plt.text(j, i, format(cm[i, j], fmt),\n",
        "                 horizontalalignment=\"center\",\n",
        "                 color=\"white\" if cm[i, j] > thresh else \"black\")\n",
        "\n",
        "    plt.tight_layout()\n",
        "    plt.ylabel('True label')\n",
        "    plt.xlabel('Predicted label')\n",
        "    \n",
        "    if save:\n",
        "        plt.savefig(saveas, dpi=100)"
      ],
      "execution_count": 9,
      "outputs": []
    },
    {
      "cell_type": "markdown",
      "metadata": {
        "id": "TcnuuSItMuur"
      },
      "source": [
        "**One-Class SVM**"
      ]
    },
    {
      "cell_type": "code",
      "metadata": {
        "id": "yGPg1N3-Muur"
      },
      "source": [
        "data_attacks=attacks.copy()\n",
        "data_normal=normal.copy()"
      ],
      "execution_count": 10,
      "outputs": []
    },
    {
      "cell_type": "code",
      "metadata": {
        "id": "irDgl5-mMuus"
      },
      "source": [
        "data_attacks[\"label\"]= 1\n",
        "data_normal[\"label\"]= -1"
      ],
      "execution_count": 11,
      "outputs": []
    },
    {
      "cell_type": "code",
      "metadata": {
        "colab": {
          "base_uri": "https://localhost:8080/",
          "height": 203
        },
        "id": "MipNhOCGhJf5",
        "outputId": "381158be-237b-4435-f027-c647408a0ee0"
      },
      "source": [
        "data_attacks[[\"durata_attacco\",\"fails\",\"mean\",\"standard_deviation\",\"kurtosis\",\"skewness\",\"label\"]].head()"
      ],
      "execution_count": 12,
      "outputs": [
        {
          "output_type": "execute_result",
          "data": {
            "text/html": [
              "<div>\n",
              "<style scoped>\n",
              "    .dataframe tbody tr th:only-of-type {\n",
              "        vertical-align: middle;\n",
              "    }\n",
              "\n",
              "    .dataframe tbody tr th {\n",
              "        vertical-align: top;\n",
              "    }\n",
              "\n",
              "    .dataframe thead th {\n",
              "        text-align: right;\n",
              "    }\n",
              "</style>\n",
              "<table border=\"1\" class=\"dataframe\">\n",
              "  <thead>\n",
              "    <tr style=\"text-align: right;\">\n",
              "      <th></th>\n",
              "      <th>durata_attacco</th>\n",
              "      <th>fails</th>\n",
              "      <th>mean</th>\n",
              "      <th>standard_deviation</th>\n",
              "      <th>kurtosis</th>\n",
              "      <th>skewness</th>\n",
              "      <th>label</th>\n",
              "    </tr>\n",
              "  </thead>\n",
              "  <tbody>\n",
              "    <tr>\n",
              "      <th>0</th>\n",
              "      <td>791296</td>\n",
              "      <td>239</td>\n",
              "      <td>5.975000</td>\n",
              "      <td>0.158114</td>\n",
              "      <td>35.025641</td>\n",
              "      <td>-6.084870</td>\n",
              "      <td>1</td>\n",
              "    </tr>\n",
              "    <tr>\n",
              "      <th>1</th>\n",
              "      <td>12026811</td>\n",
              "      <td>3599</td>\n",
              "      <td>5.998333</td>\n",
              "      <td>0.040825</td>\n",
              "      <td>595.001669</td>\n",
              "      <td>-24.433618</td>\n",
              "      <td>1</td>\n",
              "    </tr>\n",
              "    <tr>\n",
              "      <th>2</th>\n",
              "      <td>12270854</td>\n",
              "      <td>4061</td>\n",
              "      <td>7.124561</td>\n",
              "      <td>13.554560</td>\n",
              "      <td>259.732973</td>\n",
              "      <td>15.968529</td>\n",
              "      <td>1</td>\n",
              "    </tr>\n",
              "    <tr>\n",
              "      <th>3</th>\n",
              "      <td>591243</td>\n",
              "      <td>179</td>\n",
              "      <td>5.966667</td>\n",
              "      <td>0.182574</td>\n",
              "      <td>25.034483</td>\n",
              "      <td>-5.199469</td>\n",
              "      <td>1</td>\n",
              "    </tr>\n",
              "    <tr>\n",
              "      <th>4</th>\n",
              "      <td>387166</td>\n",
              "      <td>118</td>\n",
              "      <td>5.900000</td>\n",
              "      <td>0.447214</td>\n",
              "      <td>15.052632</td>\n",
              "      <td>-4.129483</td>\n",
              "      <td>1</td>\n",
              "    </tr>\n",
              "  </tbody>\n",
              "</table>\n",
              "</div>"
            ],
            "text/plain": [
              "   durata_attacco  fails      mean  ...    kurtosis   skewness  label\n",
              "0          791296    239  5.975000  ...   35.025641  -6.084870      1\n",
              "1        12026811   3599  5.998333  ...  595.001669 -24.433618      1\n",
              "2        12270854   4061  7.124561  ...  259.732973  15.968529      1\n",
              "3          591243    179  5.966667  ...   25.034483  -5.199469      1\n",
              "4          387166    118  5.900000  ...   15.052632  -4.129483      1\n",
              "\n",
              "[5 rows x 7 columns]"
            ]
          },
          "metadata": {},
          "execution_count": 12
        }
      ]
    },
    {
      "cell_type": "code",
      "metadata": {
        "id": "gbIV9xhPMuus"
      },
      "source": [
        "relevant_features = [\"durata_attacco\",\"fails\",\"mean\",\"skewness\",\"standard_deviation\",\"kurtosis\"]  "
      ],
      "execution_count": 13,
      "outputs": []
    },
    {
      "cell_type": "markdown",
      "metadata": {
        "id": "GflA3jxzMuut"
      },
      "source": [
        "Visualization of Dataset After PCA"
      ]
    },
    {
      "cell_type": "code",
      "metadata": {
        "id": "1jBaiYqiMuut"
      },
      "source": [
        "#frames = [data_attacks, data_normal]\n",
        "#result = pd.concat(frames)\n",
        "#result = result.reset_index(drop=True)"
      ],
      "execution_count": null,
      "outputs": []
    },
    {
      "cell_type": "code",
      "metadata": {
        "id": "K8-hB3avMuuu"
      },
      "source": [
        "#principal_components = pd.DataFrame(data = components\n",
        "#             , columns = ['principal component 1', 'principal component 2'])"
      ],
      "execution_count": null,
      "outputs": []
    },
    {
      "cell_type": "code",
      "metadata": {
        "id": "v9dPl6KeMuuv"
      },
      "source": [
        "#principal_components['y'] = result[\"label\"]"
      ],
      "execution_count": null,
      "outputs": []
    },
    {
      "cell_type": "code",
      "metadata": {
        "colab": {
          "base_uri": "https://localhost:8080/",
          "height": 362
        },
        "id": "QpMd-f7lMuuv",
        "outputId": "a99416f8-222a-4ef9-a522-708916ea8f52"
      },
      "source": [
        "#plt.figure(figsize=(15,5))\n",
        "#sns.scatterplot(\n",
        "#    x=\"principal component 2\", y=\"principal component 1\",\n",
        "#    hue=\"y\",\n",
        "#    palette=sns.color_palette(\"hls\", 2),\n",
        "#    data=principal_components,\n",
        "#    legend=\"full\",\n",
        "#    alpha=0.9\n",
        "#)"
      ],
      "execution_count": null,
      "outputs": [
        {
          "output_type": "execute_result",
          "data": {
            "text/plain": [
              "<matplotlib.axes._subplots.AxesSubplot at 0x7f1925680150>"
            ]
          },
          "metadata": {},
          "execution_count": 121
        },
        {
          "output_type": "display_data",
          "data": {
            "image/png": "[encoded data removed]",
            "text/plain": [
              "<Figure size 1080x360 with 1 Axes>"
            ]
          },
          "metadata": {
            "needs_background": "light"
          }
        }
      ]
    },
    {
      "cell_type": "markdown",
      "metadata": {
        "id": "RKyajT3DMuuw"
      },
      "source": [
        "Preparing data through train and test split and scaling"
      ]
    },
    {
      "cell_type": "code",
      "metadata": {
        "id": "oy1UsERCMuux"
      },
      "source": [
        "attacks1, attacks2 = train_test_split(data_attacks, train_size = 0.7, random_state=12)\n",
        "test_set= pd.concat([attacks2, data_normal], axis=0)\n",
        "test_set=test_set.reset_index(drop=True)\n",
        "x_test=test_set[relevant_features]\n",
        "attacks1=attacks1.reset_index(drop=True)\n",
        "x_train= attacks1[relevant_features]"
      ],
      "execution_count": 14,
      "outputs": []
    },
    {
      "cell_type": "code",
      "metadata": {
        "id": "mps5btMxMuux"
      },
      "source": [
        "y_test=test_set[\"label\"]\n",
        "y_train=attacks1[\"label\"]"
      ],
      "execution_count": 15,
      "outputs": []
    },
    {
      "cell_type": "code",
      "metadata": {
        "id": "ulZfzdjyMuu6"
      },
      "source": [
        "scaler=StandardScaler()\n",
        "x_train= pd.DataFrame(scaler.fit_transform(x_train), columns = x_train.columns)\n",
        "x_test = pd.DataFrame(scaler.transform(x_test), columns = x_test.columns)"
      ],
      "execution_count": 16,
      "outputs": []
    },
    {
      "cell_type": "code",
      "metadata": {
        "id": "_GtuR27fOQj2"
      },
      "source": [
        "#rng = np.random.RandomState(42)"
      ],
      "execution_count": null,
      "outputs": []
    },
    {
      "cell_type": "code",
      "metadata": {
        "id": "x89mKEO-QK1d"
      },
      "source": [
        "np.random.seed(43)"
      ],
      "execution_count": 17,
      "outputs": []
    },
    {
      "cell_type": "code",
      "metadata": {
        "colab": {
          "base_uri": "https://localhost:8080/"
        },
        "id": "MYZhGoipMuu6",
        "outputId": "b59b3057-0e5d-47c2-fc01-05269ea363f4"
      },
      "source": [
        "#PCA\n",
        "pca = PCA(n_components=2)             \n",
        "x_train = pca.fit_transform(x_train)\n",
        "x_test = pca.transform(x_test)\n",
        "explained_variance = pca.explained_variance_ratio_\n",
        "explained_variance"
      ],
      "execution_count": 18,
      "outputs": [
        {
          "output_type": "execute_result",
          "data": {
            "text/plain": [
              "array([0.49923373, 0.35424977])"
            ]
          },
          "metadata": {},
          "execution_count": 18
        }
      ]
    },
    {
      "cell_type": "code",
      "metadata": {
        "colab": {
          "base_uri": "https://localhost:8080/"
        },
        "id": "qvf2TBRlMuu7",
        "outputId": "26857708-4ca6-4733-c834-86779166ce95"
      },
      "source": [
        "#count label distribution\n",
        "counter = Counter(y_test)\n",
        "print(counter)"
      ],
      "execution_count": 19,
      "outputs": [
        {
          "output_type": "stream",
          "name": "stdout",
          "text": [
            "Counter({1: 25, -1: 10})\n"
          ]
        }
      ]
    },
    {
      "cell_type": "code",
      "metadata": {
        "colab": {
          "base_uri": "https://localhost:8080/"
        },
        "id": "Q8UA6T8FMuu8",
        "outputId": "d9afe219-4800-4bdf-c8ee-60ebe60ad938"
      },
      "source": [
        "outliers = y_test[y_test == -1] \n",
        "nu = outliers.shape[0] / y_test.shape[0] \n",
        "nu"
      ],
      "execution_count": 20,
      "outputs": [
        {
          "output_type": "execute_result",
          "data": {
            "text/plain": [
              "0.2857142857142857"
            ]
          },
          "metadata": {},
          "execution_count": 20
        }
      ]
    },
    {
      "cell_type": "markdown",
      "metadata": {
        "id": "mJZB8kfuMuu9"
      },
      "source": [
        "Cross-validation"
      ]
    },
    {
      "cell_type": "code",
      "metadata": {
        "id": "s2Zgch7VMuu-"
      },
      "source": [
        "nuu= [0.25,0.28,0.29]"
      ],
      "execution_count": null,
      "outputs": []
    },
    {
      "cell_type": "code",
      "metadata": {
        "id": "5YRocJ9yMuu_"
      },
      "source": [
        "gg=[\"auto\",\"scale\"]"
      ],
      "execution_count": null,
      "outputs": []
    },
    {
      "cell_type": "code",
      "metadata": {
        "id": "1ufb_GllMuu_"
      },
      "source": [
        "parameters = { 'nu' : nuu, 'gamma': gg }\n",
        "\n",
        "svm = OneClassSVM(kernel=\"rbf\")\n",
        "\n",
        "score = ['precision_macro' ,'f1_macro']"
      ],
      "execution_count": null,
      "outputs": []
    },
    {
      "cell_type": "code",
      "metadata": {
        "colab": {
          "base_uri": "https://localhost:8080/"
        },
        "id": "mdK6rTtaMuvA",
        "outputId": "cd2fade4-dc2b-48e1-c00a-3ca95cc0312b"
      },
      "source": [
        "svm_model = GridSearchCV(svm, parameters, cv = 5, scoring = score, refit='f1_macro')  \n",
        "svm_model.fit(x_train, np.ravel(y_train))"
      ],
      "execution_count": null,
      "outputs": [
        {
          "output_type": "execute_result",
          "data": {
            "text/plain": [
              "GridSearchCV(cv=5, error_score=nan,\n",
              "             estimator=OneClassSVM(cache_size=200, coef0=0.0, degree=3,\n",
              "                                   gamma='scale', kernel='rbf', max_iter=-1,\n",
              "                                   nu=0.5, shrinking=True, tol=0.001,\n",
              "                                   verbose=False),\n",
              "             iid='deprecated', n_jobs=None,\n",
              "             param_grid={'gamma': ['auto', 'scale'], 'nu': [0.25, 0.28, 0.29]},\n",
              "             pre_dispatch='2*n_jobs', refit='f1_macro',\n",
              "             return_train_score=False, scoring=['precision_macro', 'f1_macro'],\n",
              "             verbose=0)"
            ]
          },
          "metadata": {},
          "execution_count": 22
        }
      ]
    },
    {
      "cell_type": "code",
      "metadata": {
        "colab": {
          "base_uri": "https://localhost:8080/"
        },
        "id": "UaKkpe1sMuvA",
        "outputId": "246868b8-4e51-4447-9e30-f4cd486c85c4"
      },
      "source": [
        "print(\"Parameter value with the best score:\")\n",
        "svm_model.best_params_"
      ],
      "execution_count": null,
      "outputs": [
        {
          "output_type": "stream",
          "name": "stdout",
          "text": [
            "Parameter value with the best score:\n"
          ]
        },
        {
          "output_type": "execute_result",
          "data": {
            "text/plain": [
              "{'gamma': 'scale', 'nu': 0.25}"
            ]
          },
          "metadata": {},
          "execution_count": 23
        }
      ]
    },
    {
      "cell_type": "code",
      "metadata": {
        "id": "FBxnvt_SMuvB"
      },
      "source": [
        "#avg_f1_scores = Series(svm_model.cv_results_['mean_test_f1_macro'], name = 'avg_f1_scores')\n",
        "#nu  = Series([x['nu'] for x in svm_model.cv_results_['params']], name = 'nu')\n",
        "#gamma  = Series([x['gamma'] for x in svm_model.cv_results_['params']], name = 'gamma')                            \n",
        "#svm_validation_scores = pd.concat([nu, gamma, avg_f1_scores], axis = 1)\n",
        "#svm_validation_scores"
      ],
      "execution_count": null,
      "outputs": []
    },
    {
      "cell_type": "markdown",
      "metadata": {
        "id": "l48zIgt8MuvB"
      },
      "source": [
        "Training the model with best parameters"
      ]
    },
    {
      "cell_type": "code",
      "metadata": {
        "id": "z50BL1FQMuvC"
      },
      "source": [
        "oneclass= train_osvm(x_train,\"rbf\", 0.25, 'scale')   \n",
        "test_preds = test_predictions(oneclass, x_test)"
      ],
      "execution_count": 32,
      "outputs": []
    },
    {
      "cell_type": "code",
      "metadata": {
        "colab": {
          "base_uri": "https://localhost:8080/"
        },
        "id": "EVhZ9JagMuvD",
        "outputId": "1a1cfee1-222e-48a2-897d-923d0e37b2a5"
      },
      "source": [
        "print(classification_report(y_test, test_preds))"
      ],
      "execution_count": null,
      "outputs": [
        {
          "output_type": "stream",
          "name": "stdout",
          "text": [
            "              precision    recall  f1-score   support\n",
            "\n",
            "          -1       0.56      1.00      0.71        10\n",
            "           1       1.00      0.68      0.81        25\n",
            "\n",
            "    accuracy                           0.77        35\n",
            "   macro avg       0.78      0.84      0.76        35\n",
            "weighted avg       0.87      0.77      0.78        35\n",
            "\n"
          ]
        }
      ]
    },
    {
      "cell_type": "code",
      "metadata": {
        "colab": {
          "base_uri": "https://localhost:8080/",
          "height": 311
        },
        "id": "ajTgRVIKMuvF",
        "outputId": "31059681-ead3-42ba-9827-8dd5d4b6c272"
      },
      "source": [
        "cm=confusion_matrix(y_test,test_preds)\n",
        "plot_confusion_matrix(cm, title=\"OCSVM Confusion Matrix\", save=True, saveas=\"OCSVM.png\")"
      ],
      "execution_count": 33,
      "outputs": [
        {
          "output_type": "display_data",
          "data": {
            "image/png": "[encoded data removed]",
            "text/plain": [
              "<Figure size 432x288 with 2 Axes>"
            ]
          },
          "metadata": {
            "needs_background": "light"
          }
        }
      ]
    },
    {
      "cell_type": "code",
      "metadata": {
        "id": "gtRkdGNkQDNV"
      },
      "source": [
        "trains= pd.DataFrame(x_train, columns=[\"PC1\",\"PC2\"])"
      ],
      "execution_count": 56,
      "outputs": []
    },
    {
      "cell_type": "code",
      "metadata": {
        "id": "_EXuWw3LRYQ9"
      },
      "source": [
        "tests= pd.DataFrame(x_test, columns=[\"PC1\",\"PC2\"])"
      ],
      "execution_count": 61,
      "outputs": []
    },
    {
      "cell_type": "code",
      "metadata": {
        "colab": {
          "base_uri": "https://localhost:8080/",
          "height": 269
        },
        "id": "GeIAPve8PEuc",
        "outputId": "220e0903-4a5c-47c3-df61-c989ab243077"
      },
      "source": [
        "p2 = plt.scatter(\n",
        "    tests.loc[test_preds == 1, [\"PC1\"]],  #predicted as attacks, normals\n",
        "    tests.loc[test_preds == 1, [\"PC2\"]],\n",
        "    c=\"blue\",\n",
        "    s=50,\n",
        "    edgecolor=\"black\",\n",
        ")\n",
        "p3 = plt.scatter(\n",
        "    tests.loc[test_preds == -1, [\"PC1\"]],  #outliers\n",
        "    tests.loc[test_preds == -1, [\"PC2\"]],\n",
        "    c=\"red\",\n",
        "    s=50,\n",
        "    edgecolor=\"black\",\n",
        ")\n",
        "\n",
        "\n",
        "plt.xlim((-6, 6))\n",
        "plt.ylim((-6, 6))\n",
        "plt.legend(\n",
        "    [p2,p3],\n",
        "    [\"test observations predicted as attacks\", \"test observations detected as outliers\"],\n",
        "    loc=\"lower right\",\n",
        ")\n",
        "\n",
        "plt.show()"
      ],
      "execution_count": 77,
      "outputs": [
        {
          "output_type": "display_data",
          "data": {
            "image/png": "[encoded data removed]",
            "text/plain": [
              "<Figure size 432x288 with 1 Axes>"
            ]
          },
          "metadata": {
            "needs_background": "light"
          }
        }
      ]
    },
    {
      "cell_type": "markdown",
      "metadata": {
        "id": "8Sjgb3ohMuvH"
      },
      "source": [
        "**Isolation Forest**"
      ]
    },
    {
      "cell_type": "markdown",
      "metadata": {
        "id": "z8rTKtHOMuvH"
      },
      "source": [
        "Cross-validation"
      ]
    },
    {
      "cell_type": "code",
      "metadata": {
        "id": "E5WDQbLhMuvI"
      },
      "source": [
        "max_samples=[5,8,10,20]"
      ],
      "execution_count": 69,
      "outputs": []
    },
    {
      "cell_type": "code",
      "metadata": {
        "id": "6A_jwk4eMuvJ"
      },
      "source": [
        "parameters = { 'max_samples': max_samples }\n",
        "clf = IsolationForest()\n",
        "score = ['precision_macro' ,'f1_macro']"
      ],
      "execution_count": 22,
      "outputs": []
    },
    {
      "cell_type": "code",
      "metadata": {
        "colab": {
          "base_uri": "https://localhost:8080/"
        },
        "id": "lrFqwVzWMuvL",
        "outputId": "0de38293-b644-416c-8429-12a56ca980c6"
      },
      "source": [
        "if_model = GridSearchCV(clf, parameters, cv = 5, scoring = score, refit='f1_macro')  \n",
        "if_model.fit(x_train, np.ravel(y_train))"
      ],
      "execution_count": null,
      "outputs": [
        {
          "output_type": "execute_result",
          "data": {
            "text/plain": [
              "GridSearchCV(cv=5, error_score=nan,\n",
              "             estimator=IsolationForest(behaviour='deprecated', bootstrap=False,\n",
              "                                       contamination='auto', max_features=1.0,\n",
              "                                       max_samples='auto', n_estimators=100,\n",
              "                                       n_jobs=None, random_state=None,\n",
              "                                       verbose=0, warm_start=False),\n",
              "             iid='deprecated', n_jobs=None,\n",
              "             param_grid={'max_samples': [5, 8, 10, 20]},\n",
              "             pre_dispatch='2*n_jobs', refit='f1_macro',\n",
              "             return_train_score=False, scoring=['precision_macro', 'f1_macro'],\n",
              "             verbose=0)"
            ]
          },
          "metadata": {},
          "execution_count": 31
        }
      ]
    },
    {
      "cell_type": "code",
      "metadata": {
        "colab": {
          "base_uri": "https://localhost:8080/"
        },
        "id": "SKHSw-oCMuvO",
        "outputId": "5ab5e4c9-7ec4-43b8-b2b6-9dd7e3d8af71"
      },
      "source": [
        "print(\"Parameter value with the best score:\")\n",
        "if_model.best_params_"
      ],
      "execution_count": null,
      "outputs": [
        {
          "output_type": "stream",
          "name": "stdout",
          "text": [
            "Parameter value with the best score:\n"
          ]
        },
        {
          "output_type": "execute_result",
          "data": {
            "text/plain": [
              "{'max_samples': 5}"
            ]
          },
          "metadata": {},
          "execution_count": 32
        }
      ]
    },
    {
      "cell_type": "markdown",
      "metadata": {
        "id": "5GyQDuDjMuvP"
      },
      "source": [
        "Isolation Forest with best values of parameters"
      ]
    },
    {
      "cell_type": "code",
      "metadata": {
        "id": "3eglVUvbMuvQ"
      },
      "source": [
        "isolationf=train_if(x_train,5)\n",
        "y_test_pred = test_predictions(isolationf, x_test)"
      ],
      "execution_count": 70,
      "outputs": []
    },
    {
      "cell_type": "code",
      "metadata": {
        "colab": {
          "base_uri": "https://localhost:8080/",
          "height": 311
        },
        "id": "3PYH7YZVMuvU",
        "outputId": "2d5d1bca-5ab5-4fe9-b890-8d87ab456370"
      },
      "source": [
        "cm_is=confusion_matrix(y_test,y_test_pred)       \n",
        "plot_confusion_matrix(cm_is, title=\"Isolation Forest Confusion Matrix\", save=True, saveas=\"IF_SAs.png\")"
      ],
      "execution_count": 24,
      "outputs": [
        {
          "output_type": "display_data",
          "data": {
            "image/png": "[encoded data removed]",
            "text/plain": [
              "<Figure size 432x288 with 2 Axes>"
            ]
          },
          "metadata": {
            "needs_background": "light"
          }
        }
      ]
    },
    {
      "cell_type": "code",
      "metadata": {
        "colab": {
          "base_uri": "https://localhost:8080/"
        },
        "id": "9ohU0SQWMuvV",
        "outputId": "bbda3456-c98c-453e-bcf7-74ebeb0d31b6"
      },
      "source": [
        "print(classification_report(y_test, y_test_pred))"
      ],
      "execution_count": null,
      "outputs": [
        {
          "output_type": "stream",
          "name": "stdout",
          "text": [
            "              precision    recall  f1-score   support\n",
            "\n",
            "          -1       0.00      0.00      0.00        10\n",
            "           1       0.62      0.64      0.63        25\n",
            "\n",
            "    accuracy                           0.46        35\n",
            "   macro avg       0.31      0.32      0.31        35\n",
            "weighted avg       0.44      0.46      0.45        35\n",
            "\n"
          ]
        }
      ]
    },
    {
      "cell_type": "code",
      "metadata": {
        "id": "i4se4Az0UqBW"
      },
      "source": [
        "trains= pd.DataFrame(x_train, columns=[\"PC1\",\"PC2\"])\n",
        "tests= pd.DataFrame(x_test, columns=[\"PC1\",\"PC2\"])"
      ],
      "execution_count": 71,
      "outputs": []
    },
    {
      "cell_type": "code",
      "metadata": {
        "colab": {
          "base_uri": "https://localhost:8080/",
          "height": 269
        },
        "id": "3qlyS72DUqBX",
        "outputId": "ef4738f8-e2d7-47d9-e52a-02e529144965"
      },
      "source": [
        "p2 = plt.scatter(\n",
        "    tests.loc[y_test_pred == 1, [\"PC1\"]],  \n",
        "    tests.loc[y_test_pred == 1, [\"PC2\"]],\n",
        "    c=\"blue\",\n",
        "    s=50,\n",
        "    edgecolor=\"black\",\n",
        ")\n",
        "p3 = plt.scatter(\n",
        "    tests.loc[y_test_pred == -1, [\"PC1\"]],  #outliers\n",
        "    tests.loc[y_test_pred == -1, [\"PC2\"]],\n",
        "    c=\"red\",\n",
        "    s=50,\n",
        "    edgecolor=\"black\",\n",
        ")\n",
        "\n",
        "\n",
        "plt.xlim((-6, 6))\n",
        "plt.ylim((-6, 6))\n",
        "plt.legend(\n",
        "    [p2,p3],\n",
        "    [\"test observations predicted as attacks\", \"test observations detected as outliers\"],\n",
        "    loc=\"lower right\",\n",
        ")\n",
        "\n",
        "plt.show()"
      ],
      "execution_count": 78,
      "outputs": [
        {
          "output_type": "display_data",
          "data": {
            "image/png": "[encoded data removed]",
            "text/plain": [
              "<Figure size 432x288 with 1 Axes>"
            ]
          },
          "metadata": {
            "needs_background": "light"
          }
        }
      ]
    }
  ]
}